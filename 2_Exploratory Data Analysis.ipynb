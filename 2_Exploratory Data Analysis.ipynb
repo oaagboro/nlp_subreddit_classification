{
 "cells": [
  {
   "cell_type": "markdown",
   "metadata": {},
   "source": [
    "# Data Cleaning"
   ]
  },
  {
   "cell_type": "code",
   "execution_count": 1,
   "metadata": {},
   "outputs": [],
   "source": [
    "import pandas as pd\n",
    "import numpy as np\n",
    "import seaborn as sns\n",
    "import matplotlib.pyplot as plt\n",
    "from sklearn.feature_extraction.text import CountVectorizer"
   ]
  },
  {
   "cell_type": "code",
   "execution_count": 2,
   "metadata": {},
   "outputs": [],
   "source": [
    "# Read in the data\n",
    "df = pd.read_csv('combined.csv')"
   ]
  },
  {
   "cell_type": "code",
   "execution_count": 3,
   "metadata": {},
   "outputs": [
    {
     "data": {
      "text/html": [
       "<div>\n",
       "<style scoped>\n",
       "    .dataframe tbody tr th:only-of-type {\n",
       "        vertical-align: middle;\n",
       "    }\n",
       "\n",
       "    .dataframe tbody tr th {\n",
       "        vertical-align: top;\n",
       "    }\n",
       "\n",
       "    .dataframe thead th {\n",
       "        text-align: right;\n",
       "    }\n",
       "</style>\n",
       "<table border=\"1\" class=\"dataframe\">\n",
       "  <thead>\n",
       "    <tr style=\"text-align: right;\">\n",
       "      <th></th>\n",
       "      <th>Unnamed: 0</th>\n",
       "      <th>Unnamed: 0.1</th>\n",
       "      <th>all_awardings</th>\n",
       "      <th>allow_live_comments</th>\n",
       "      <th>author</th>\n",
       "      <th>author_flair_css_class</th>\n",
       "      <th>author_flair_richtext</th>\n",
       "      <th>author_flair_text</th>\n",
       "      <th>author_flair_type</th>\n",
       "      <th>author_fullname</th>\n",
       "      <th>...</th>\n",
       "      <th>archived</th>\n",
       "      <th>author_created_utc</th>\n",
       "      <th>can_gild</th>\n",
       "      <th>category</th>\n",
       "      <th>content_categories</th>\n",
       "      <th>hidden</th>\n",
       "      <th>quarantine</th>\n",
       "      <th>removal_reason</th>\n",
       "      <th>subreddit_name_prefixed</th>\n",
       "      <th>brand_safe</th>\n",
       "    </tr>\n",
       "  </thead>\n",
       "  <tbody>\n",
       "    <tr>\n",
       "      <th>0</th>\n",
       "      <td>0</td>\n",
       "      <td>0</td>\n",
       "      <td>[]</td>\n",
       "      <td>False</td>\n",
       "      <td>dota2weatherterrain</td>\n",
       "      <td>NaN</td>\n",
       "      <td>[]</td>\n",
       "      <td>NaN</td>\n",
       "      <td>text</td>\n",
       "      <td>t2_3rifld</td>\n",
       "      <td>...</td>\n",
       "      <td>NaN</td>\n",
       "      <td>NaN</td>\n",
       "      <td>NaN</td>\n",
       "      <td>NaN</td>\n",
       "      <td>NaN</td>\n",
       "      <td>NaN</td>\n",
       "      <td>NaN</td>\n",
       "      <td>NaN</td>\n",
       "      <td>NaN</td>\n",
       "      <td>NaN</td>\n",
       "    </tr>\n",
       "    <tr>\n",
       "      <th>1</th>\n",
       "      <td>1</td>\n",
       "      <td>1</td>\n",
       "      <td>[]</td>\n",
       "      <td>False</td>\n",
       "      <td>CurtainsMcGee</td>\n",
       "      <td>NaN</td>\n",
       "      <td>[]</td>\n",
       "      <td>NaN</td>\n",
       "      <td>text</td>\n",
       "      <td>t2_492q32dt</td>\n",
       "      <td>...</td>\n",
       "      <td>NaN</td>\n",
       "      <td>NaN</td>\n",
       "      <td>NaN</td>\n",
       "      <td>NaN</td>\n",
       "      <td>NaN</td>\n",
       "      <td>NaN</td>\n",
       "      <td>NaN</td>\n",
       "      <td>NaN</td>\n",
       "      <td>NaN</td>\n",
       "      <td>NaN</td>\n",
       "    </tr>\n",
       "    <tr>\n",
       "      <th>2</th>\n",
       "      <td>2</td>\n",
       "      <td>2</td>\n",
       "      <td>[]</td>\n",
       "      <td>False</td>\n",
       "      <td>raisedbyowls</td>\n",
       "      <td>NaN</td>\n",
       "      <td>[]</td>\n",
       "      <td>NaN</td>\n",
       "      <td>text</td>\n",
       "      <td>t2_frghf</td>\n",
       "      <td>...</td>\n",
       "      <td>NaN</td>\n",
       "      <td>NaN</td>\n",
       "      <td>NaN</td>\n",
       "      <td>NaN</td>\n",
       "      <td>NaN</td>\n",
       "      <td>NaN</td>\n",
       "      <td>NaN</td>\n",
       "      <td>NaN</td>\n",
       "      <td>NaN</td>\n",
       "      <td>NaN</td>\n",
       "    </tr>\n",
       "    <tr>\n",
       "      <th>3</th>\n",
       "      <td>3</td>\n",
       "      <td>3</td>\n",
       "      <td>[]</td>\n",
       "      <td>False</td>\n",
       "      <td>bearfoot_new</td>\n",
       "      <td>NaN</td>\n",
       "      <td>[]</td>\n",
       "      <td>NaN</td>\n",
       "      <td>text</td>\n",
       "      <td>t2_6fdebwac</td>\n",
       "      <td>...</td>\n",
       "      <td>NaN</td>\n",
       "      <td>NaN</td>\n",
       "      <td>NaN</td>\n",
       "      <td>NaN</td>\n",
       "      <td>NaN</td>\n",
       "      <td>NaN</td>\n",
       "      <td>NaN</td>\n",
       "      <td>NaN</td>\n",
       "      <td>NaN</td>\n",
       "      <td>NaN</td>\n",
       "    </tr>\n",
       "    <tr>\n",
       "      <th>4</th>\n",
       "      <td>4</td>\n",
       "      <td>4</td>\n",
       "      <td>[]</td>\n",
       "      <td>False</td>\n",
       "      <td>Stunning_Singer</td>\n",
       "      <td>NaN</td>\n",
       "      <td>[]</td>\n",
       "      <td>NaN</td>\n",
       "      <td>text</td>\n",
       "      <td>t2_5ro874o8</td>\n",
       "      <td>...</td>\n",
       "      <td>NaN</td>\n",
       "      <td>NaN</td>\n",
       "      <td>NaN</td>\n",
       "      <td>NaN</td>\n",
       "      <td>NaN</td>\n",
       "      <td>NaN</td>\n",
       "      <td>NaN</td>\n",
       "      <td>NaN</td>\n",
       "      <td>NaN</td>\n",
       "      <td>NaN</td>\n",
       "    </tr>\n",
       "  </tbody>\n",
       "</table>\n",
       "<p>5 rows × 99 columns</p>\n",
       "</div>"
      ],
      "text/plain": [
       "   Unnamed: 0  Unnamed: 0.1 all_awardings allow_live_comments  \\\n",
       "0           0             0            []               False   \n",
       "1           1             1            []               False   \n",
       "2           2             2            []               False   \n",
       "3           3             3            []               False   \n",
       "4           4             4            []               False   \n",
       "\n",
       "                author author_flair_css_class author_flair_richtext  \\\n",
       "0  dota2weatherterrain                    NaN                    []   \n",
       "1        CurtainsMcGee                    NaN                    []   \n",
       "2         raisedbyowls                    NaN                    []   \n",
       "3         bearfoot_new                    NaN                    []   \n",
       "4      Stunning_Singer                    NaN                    []   \n",
       "\n",
       "  author_flair_text author_flair_type author_fullname  ... archived  \\\n",
       "0               NaN              text       t2_3rifld  ...      NaN   \n",
       "1               NaN              text     t2_492q32dt  ...      NaN   \n",
       "2               NaN              text        t2_frghf  ...      NaN   \n",
       "3               NaN              text     t2_6fdebwac  ...      NaN   \n",
       "4               NaN              text     t2_5ro874o8  ...      NaN   \n",
       "\n",
       "  author_created_utc can_gild category  content_categories  hidden quarantine  \\\n",
       "0                NaN      NaN      NaN                 NaN     NaN        NaN   \n",
       "1                NaN      NaN      NaN                 NaN     NaN        NaN   \n",
       "2                NaN      NaN      NaN                 NaN     NaN        NaN   \n",
       "3                NaN      NaN      NaN                 NaN     NaN        NaN   \n",
       "4                NaN      NaN      NaN                 NaN     NaN        NaN   \n",
       "\n",
       "  removal_reason subreddit_name_prefixed brand_safe  \n",
       "0            NaN                     NaN        NaN  \n",
       "1            NaN                     NaN        NaN  \n",
       "2            NaN                     NaN        NaN  \n",
       "3            NaN                     NaN        NaN  \n",
       "4            NaN                     NaN        NaN  \n",
       "\n",
       "[5 rows x 99 columns]"
      ]
     },
     "execution_count": 3,
     "metadata": {},
     "output_type": "execute_result"
    }
   ],
   "source": [
    "# Check the first 5 rows\n",
    "df.head()"
   ]
  },
  {
   "cell_type": "code",
   "execution_count": 4,
   "metadata": {
    "collapsed": true,
    "jupyter": {
     "outputs_hidden": true
    }
   },
   "outputs": [
    {
     "name": "stdout",
     "output_type": "stream",
     "text": [
      "<class 'pandas.core.frame.DataFrame'>\n",
      "RangeIndex: 5000 entries, 0 to 4999\n",
      "Data columns (total 99 columns):\n",
      " #   Column                         Non-Null Count  Dtype  \n",
      "---  ------                         --------------  -----  \n",
      " 0   Unnamed: 0                     5000 non-null   int64  \n",
      " 1   Unnamed: 0.1                   5000 non-null   int64  \n",
      " 2   all_awardings                  2000 non-null   object \n",
      " 3   allow_live_comments            2000 non-null   object \n",
      " 4   author                         5000 non-null   object \n",
      " 5   author_flair_css_class         1008 non-null   object \n",
      " 6   author_flair_richtext          2988 non-null   object \n",
      " 7   author_flair_text              563 non-null    object \n",
      " 8   author_flair_type              2988 non-null   object \n",
      " 9   author_fullname                3764 non-null   object \n",
      " 10  author_patreon_flair           1992 non-null   object \n",
      " 11  author_premium                 995 non-null    object \n",
      " 12  awarders                       1767 non-null   object \n",
      " 13  can_mod_post                   4000 non-null   object \n",
      " 14  contest_mode                   5000 non-null   bool   \n",
      " 15  created_utc                    5000 non-null   int64  \n",
      " 16  domain                         5000 non-null   object \n",
      " 17  full_link                      5000 non-null   object \n",
      " 18  gildings                       2721 non-null   object \n",
      " 19  id                             5000 non-null   object \n",
      " 20  is_crosspostable               4000 non-null   object \n",
      " 21  is_meta                        3000 non-null   object \n",
      " 22  is_original_content            3000 non-null   object \n",
      " 23  is_reddit_media_domain         3000 non-null   object \n",
      " 24  is_robot_indexable             2004 non-null   object \n",
      " 25  is_self                        5000 non-null   bool   \n",
      " 26  is_video                       4000 non-null   object \n",
      " 27  link_flair_background_color    550 non-null    object \n",
      " 28  link_flair_css_class           2694 non-null   object \n",
      " 29  link_flair_richtext            3000 non-null   object \n",
      " 30  link_flair_template_id         1386 non-null   object \n",
      " 31  link_flair_text                2694 non-null   object \n",
      " 32  link_flair_text_color          3000 non-null   object \n",
      " 33  link_flair_type                3000 non-null   object \n",
      " 34  locked                         5000 non-null   bool   \n",
      " 35  media_only                     3000 non-null   object \n",
      " 36  no_follow                      3000 non-null   object \n",
      " 37  num_comments                   5000 non-null   int64  \n",
      " 38  num_crossposts                 4000 non-null   float64\n",
      " 39  over_18                        5000 non-null   bool   \n",
      " 40  parent_whitelist_status        4000 non-null   object \n",
      " 41  permalink                      5000 non-null   object \n",
      " 42  pinned                         3894 non-null   object \n",
      " 43  pwls                           3000 non-null   float64\n",
      " 44  retrieved_on                   5000 non-null   int64  \n",
      " 45  score                          5000 non-null   int64  \n",
      " 46  selftext                       2964 non-null   object \n",
      " 47  send_replies                   3000 non-null   object \n",
      " 48  spoiler                        4123 non-null   object \n",
      " 49  stickied                       5000 non-null   bool   \n",
      " 50  subreddit                      5000 non-null   object \n",
      " 51  subreddit_id                   5000 non-null   object \n",
      " 52  subreddit_subscribers          3000 non-null   float64\n",
      " 53  subreddit_type                 3000 non-null   object \n",
      " 54  thumbnail                      5000 non-null   object \n",
      " 55  title                          5000 non-null   object \n",
      " 56  total_awards_received          2000 non-null   float64\n",
      " 57  treatment_tags                 1000 non-null   object \n",
      " 58  upvote_ratio                   1000 non-null   float64\n",
      " 59  url                            5000 non-null   object \n",
      " 60  whitelist_status               4000 non-null   object \n",
      " 61  wls                            3000 non-null   float64\n",
      " 62  post_hint                      1270 non-null   object \n",
      " 63  preview                        1270 non-null   object \n",
      " 64  thumbnail_height               1189 non-null   float64\n",
      " 65  thumbnail_width                1189 non-null   float64\n",
      " 66  url_overridden_by_dest         385 non-null    object \n",
      " 67  removed_by_category            64 non-null     object \n",
      " 68  media                          288 non-null    object \n",
      " 69  media_embed                    1192 non-null   object \n",
      " 70  secure_media                   286 non-null    object \n",
      " 71  secure_media_embed             1192 non-null   object \n",
      " 72  poll_data                      48 non-null     object \n",
      " 73  author_flair_background_color  323 non-null    object \n",
      " 74  author_flair_template_id       424 non-null    object \n",
      " 75  author_flair_text_color        556 non-null    object \n",
      " 76  distinguished                  40 non-null     object \n",
      " 77  suggested_sort                 2 non-null      object \n",
      " 78  gallery_data                   30 non-null     object \n",
      " 79  is_gallery                     31 non-null     object \n",
      " 80  media_metadata                 45 non-null     object \n",
      " 81  edited                         111 non-null    float64\n",
      " 82  crosspost_parent               77 non-null     object \n",
      " 83  crosspost_parent_list          77 non-null     object \n",
      " 84  banned_by                      31 non-null     object \n",
      " 85  author_cakeday                 9 non-null      object \n",
      " 86  steward_reports                1000 non-null   object \n",
      " 87  updated_utc                    1000 non-null   float64\n",
      " 88  gilded                         1820 non-null   float64\n",
      " 89  archived                       4 non-null      object \n",
      " 90  author_created_utc             779 non-null    float64\n",
      " 91  can_gild                       4 non-null      object \n",
      " 92  category                       0 non-null      float64\n",
      " 93  content_categories             0 non-null      float64\n",
      " 94  hidden                         4 non-null      object \n",
      " 95  quarantine                     4 non-null      object \n",
      " 96  removal_reason                 0 non-null      float64\n",
      " 97  subreddit_name_prefixed        4 non-null      object \n",
      " 98  brand_safe                     1000 non-null   object \n",
      "dtypes: bool(5), float64(15), int64(6), object(73)\n",
      "memory usage: 3.6+ MB\n"
     ]
    }
   ],
   "source": [
    "df.info()"
   ]
  },
  {
   "cell_type": "code",
   "execution_count": 5,
   "metadata": {},
   "outputs": [
    {
     "data": {
      "text/html": [
       "<div>\n",
       "<style scoped>\n",
       "    .dataframe tbody tr th:only-of-type {\n",
       "        vertical-align: middle;\n",
       "    }\n",
       "\n",
       "    .dataframe tbody tr th {\n",
       "        vertical-align: top;\n",
       "    }\n",
       "\n",
       "    .dataframe thead th {\n",
       "        text-align: right;\n",
       "    }\n",
       "</style>\n",
       "<table border=\"1\" class=\"dataframe\">\n",
       "  <thead>\n",
       "    <tr style=\"text-align: right;\">\n",
       "      <th></th>\n",
       "      <th>count</th>\n",
       "      <th>mean</th>\n",
       "      <th>std</th>\n",
       "      <th>min</th>\n",
       "      <th>25%</th>\n",
       "      <th>50%</th>\n",
       "      <th>75%</th>\n",
       "      <th>max</th>\n",
       "    </tr>\n",
       "  </thead>\n",
       "  <tbody>\n",
       "    <tr>\n",
       "      <th>Unnamed: 0</th>\n",
       "      <td>5000.0</td>\n",
       "      <td>1.249500e+03</td>\n",
       "      <td>7.217600e+02</td>\n",
       "      <td>0.000000e+00</td>\n",
       "      <td>6.247500e+02</td>\n",
       "      <td>1.249500e+03</td>\n",
       "      <td>1.874250e+03</td>\n",
       "      <td>2.499000e+03</td>\n",
       "    </tr>\n",
       "    <tr>\n",
       "      <th>Unnamed: 0.1</th>\n",
       "      <td>5000.0</td>\n",
       "      <td>4.950000e+01</td>\n",
       "      <td>2.886896e+01</td>\n",
       "      <td>0.000000e+00</td>\n",
       "      <td>2.475000e+01</td>\n",
       "      <td>4.950000e+01</td>\n",
       "      <td>7.425000e+01</td>\n",
       "      <td>9.900000e+01</td>\n",
       "    </tr>\n",
       "    <tr>\n",
       "      <th>created_utc</th>\n",
       "      <td>5000.0</td>\n",
       "      <td>1.538004e+09</td>\n",
       "      <td>4.461446e+07</td>\n",
       "      <td>1.474291e+09</td>\n",
       "      <td>1.506197e+09</td>\n",
       "      <td>1.538175e+09</td>\n",
       "      <td>1.569825e+09</td>\n",
       "      <td>1.601390e+09</td>\n",
       "    </tr>\n",
       "    <tr>\n",
       "      <th>num_comments</th>\n",
       "      <td>5000.0</td>\n",
       "      <td>1.424420e+01</td>\n",
       "      <td>4.174921e+01</td>\n",
       "      <td>0.000000e+00</td>\n",
       "      <td>1.000000e+00</td>\n",
       "      <td>5.000000e+00</td>\n",
       "      <td>1.400000e+01</td>\n",
       "      <td>1.175000e+03</td>\n",
       "    </tr>\n",
       "    <tr>\n",
       "      <th>num_crossposts</th>\n",
       "      <td>4000.0</td>\n",
       "      <td>4.750000e-03</td>\n",
       "      <td>7.231006e-02</td>\n",
       "      <td>0.000000e+00</td>\n",
       "      <td>0.000000e+00</td>\n",
       "      <td>0.000000e+00</td>\n",
       "      <td>0.000000e+00</td>\n",
       "      <td>2.000000e+00</td>\n",
       "    </tr>\n",
       "    <tr>\n",
       "      <th>pwls</th>\n",
       "      <td>3000.0</td>\n",
       "      <td>6.000000e+00</td>\n",
       "      <td>0.000000e+00</td>\n",
       "      <td>6.000000e+00</td>\n",
       "      <td>6.000000e+00</td>\n",
       "      <td>6.000000e+00</td>\n",
       "      <td>6.000000e+00</td>\n",
       "      <td>6.000000e+00</td>\n",
       "    </tr>\n",
       "    <tr>\n",
       "      <th>retrieved_on</th>\n",
       "      <td>5000.0</td>\n",
       "      <td>1.538416e+09</td>\n",
       "      <td>4.405842e+07</td>\n",
       "      <td>1.476433e+09</td>\n",
       "      <td>1.506290e+09</td>\n",
       "      <td>1.538177e+09</td>\n",
       "      <td>1.569825e+09</td>\n",
       "      <td>1.601391e+09</td>\n",
       "    </tr>\n",
       "    <tr>\n",
       "      <th>score</th>\n",
       "      <td>5000.0</td>\n",
       "      <td>9.544320e+01</td>\n",
       "      <td>8.071008e+02</td>\n",
       "      <td>0.000000e+00</td>\n",
       "      <td>1.000000e+00</td>\n",
       "      <td>1.000000e+00</td>\n",
       "      <td>9.000000e+00</td>\n",
       "      <td>3.194500e+04</td>\n",
       "    </tr>\n",
       "    <tr>\n",
       "      <th>subreddit_subscribers</th>\n",
       "      <td>3000.0</td>\n",
       "      <td>8.601879e+05</td>\n",
       "      <td>3.108768e+05</td>\n",
       "      <td>4.974890e+05</td>\n",
       "      <td>5.936970e+05</td>\n",
       "      <td>7.923460e+05</td>\n",
       "      <td>1.078876e+06</td>\n",
       "      <td>1.412109e+06</td>\n",
       "    </tr>\n",
       "    <tr>\n",
       "      <th>total_awards_received</th>\n",
       "      <td>2000.0</td>\n",
       "      <td>5.000000e-04</td>\n",
       "      <td>2.236068e-02</td>\n",
       "      <td>0.000000e+00</td>\n",
       "      <td>0.000000e+00</td>\n",
       "      <td>0.000000e+00</td>\n",
       "      <td>0.000000e+00</td>\n",
       "      <td>1.000000e+00</td>\n",
       "    </tr>\n",
       "    <tr>\n",
       "      <th>upvote_ratio</th>\n",
       "      <td>1000.0</td>\n",
       "      <td>9.945000e-01</td>\n",
       "      <td>5.182698e-02</td>\n",
       "      <td>1.300000e-01</td>\n",
       "      <td>1.000000e+00</td>\n",
       "      <td>1.000000e+00</td>\n",
       "      <td>1.000000e+00</td>\n",
       "      <td>1.000000e+00</td>\n",
       "    </tr>\n",
       "    <tr>\n",
       "      <th>wls</th>\n",
       "      <td>3000.0</td>\n",
       "      <td>5.995000e+00</td>\n",
       "      <td>1.223928e-01</td>\n",
       "      <td>3.000000e+00</td>\n",
       "      <td>6.000000e+00</td>\n",
       "      <td>6.000000e+00</td>\n",
       "      <td>6.000000e+00</td>\n",
       "      <td>6.000000e+00</td>\n",
       "    </tr>\n",
       "    <tr>\n",
       "      <th>thumbnail_height</th>\n",
       "      <td>1189.0</td>\n",
       "      <td>1.156198e+02</td>\n",
       "      <td>2.705976e+01</td>\n",
       "      <td>2.400000e+01</td>\n",
       "      <td>9.700000e+01</td>\n",
       "      <td>1.260000e+02</td>\n",
       "      <td>1.400000e+02</td>\n",
       "      <td>1.400000e+02</td>\n",
       "    </tr>\n",
       "    <tr>\n",
       "      <th>thumbnail_width</th>\n",
       "      <td>1189.0</td>\n",
       "      <td>1.400000e+02</td>\n",
       "      <td>0.000000e+00</td>\n",
       "      <td>1.400000e+02</td>\n",
       "      <td>1.400000e+02</td>\n",
       "      <td>1.400000e+02</td>\n",
       "      <td>1.400000e+02</td>\n",
       "      <td>1.400000e+02</td>\n",
       "    </tr>\n",
       "    <tr>\n",
       "      <th>edited</th>\n",
       "      <td>111.0</td>\n",
       "      <td>1.490616e+09</td>\n",
       "      <td>2.390574e+07</td>\n",
       "      <td>1.474337e+09</td>\n",
       "      <td>1.474914e+09</td>\n",
       "      <td>1.475260e+09</td>\n",
       "      <td>1.506367e+09</td>\n",
       "      <td>1.601146e+09</td>\n",
       "    </tr>\n",
       "    <tr>\n",
       "      <th>updated_utc</th>\n",
       "      <td>1000.0</td>\n",
       "      <td>1.569684e+09</td>\n",
       "      <td>3.276028e+05</td>\n",
       "      <td>1.568853e+09</td>\n",
       "      <td>1.569511e+09</td>\n",
       "      <td>1.569790e+09</td>\n",
       "      <td>1.569911e+09</td>\n",
       "      <td>1.570075e+09</td>\n",
       "    </tr>\n",
       "    <tr>\n",
       "      <th>gilded</th>\n",
       "      <td>1820.0</td>\n",
       "      <td>2.747253e-03</td>\n",
       "      <td>6.197352e-02</td>\n",
       "      <td>0.000000e+00</td>\n",
       "      <td>0.000000e+00</td>\n",
       "      <td>0.000000e+00</td>\n",
       "      <td>0.000000e+00</td>\n",
       "      <td>2.000000e+00</td>\n",
       "    </tr>\n",
       "    <tr>\n",
       "      <th>author_created_utc</th>\n",
       "      <td>779.0</td>\n",
       "      <td>1.423169e+09</td>\n",
       "      <td>5.319333e+07</td>\n",
       "      <td>1.209326e+09</td>\n",
       "      <td>1.388561e+09</td>\n",
       "      <td>1.443344e+09</td>\n",
       "      <td>1.468137e+09</td>\n",
       "      <td>1.538005e+09</td>\n",
       "    </tr>\n",
       "    <tr>\n",
       "      <th>category</th>\n",
       "      <td>0.0</td>\n",
       "      <td>NaN</td>\n",
       "      <td>NaN</td>\n",
       "      <td>NaN</td>\n",
       "      <td>NaN</td>\n",
       "      <td>NaN</td>\n",
       "      <td>NaN</td>\n",
       "      <td>NaN</td>\n",
       "    </tr>\n",
       "    <tr>\n",
       "      <th>content_categories</th>\n",
       "      <td>0.0</td>\n",
       "      <td>NaN</td>\n",
       "      <td>NaN</td>\n",
       "      <td>NaN</td>\n",
       "      <td>NaN</td>\n",
       "      <td>NaN</td>\n",
       "      <td>NaN</td>\n",
       "      <td>NaN</td>\n",
       "    </tr>\n",
       "    <tr>\n",
       "      <th>removal_reason</th>\n",
       "      <td>0.0</td>\n",
       "      <td>NaN</td>\n",
       "      <td>NaN</td>\n",
       "      <td>NaN</td>\n",
       "      <td>NaN</td>\n",
       "      <td>NaN</td>\n",
       "      <td>NaN</td>\n",
       "      <td>NaN</td>\n",
       "    </tr>\n",
       "  </tbody>\n",
       "</table>\n",
       "</div>"
      ],
      "text/plain": [
       "                        count          mean           std           min  \\\n",
       "Unnamed: 0             5000.0  1.249500e+03  7.217600e+02  0.000000e+00   \n",
       "Unnamed: 0.1           5000.0  4.950000e+01  2.886896e+01  0.000000e+00   \n",
       "created_utc            5000.0  1.538004e+09  4.461446e+07  1.474291e+09   \n",
       "num_comments           5000.0  1.424420e+01  4.174921e+01  0.000000e+00   \n",
       "num_crossposts         4000.0  4.750000e-03  7.231006e-02  0.000000e+00   \n",
       "pwls                   3000.0  6.000000e+00  0.000000e+00  6.000000e+00   \n",
       "retrieved_on           5000.0  1.538416e+09  4.405842e+07  1.476433e+09   \n",
       "score                  5000.0  9.544320e+01  8.071008e+02  0.000000e+00   \n",
       "subreddit_subscribers  3000.0  8.601879e+05  3.108768e+05  4.974890e+05   \n",
       "total_awards_received  2000.0  5.000000e-04  2.236068e-02  0.000000e+00   \n",
       "upvote_ratio           1000.0  9.945000e-01  5.182698e-02  1.300000e-01   \n",
       "wls                    3000.0  5.995000e+00  1.223928e-01  3.000000e+00   \n",
       "thumbnail_height       1189.0  1.156198e+02  2.705976e+01  2.400000e+01   \n",
       "thumbnail_width        1189.0  1.400000e+02  0.000000e+00  1.400000e+02   \n",
       "edited                  111.0  1.490616e+09  2.390574e+07  1.474337e+09   \n",
       "updated_utc            1000.0  1.569684e+09  3.276028e+05  1.568853e+09   \n",
       "gilded                 1820.0  2.747253e-03  6.197352e-02  0.000000e+00   \n",
       "author_created_utc      779.0  1.423169e+09  5.319333e+07  1.209326e+09   \n",
       "category                  0.0           NaN           NaN           NaN   \n",
       "content_categories        0.0           NaN           NaN           NaN   \n",
       "removal_reason            0.0           NaN           NaN           NaN   \n",
       "\n",
       "                                25%           50%           75%           max  \n",
       "Unnamed: 0             6.247500e+02  1.249500e+03  1.874250e+03  2.499000e+03  \n",
       "Unnamed: 0.1           2.475000e+01  4.950000e+01  7.425000e+01  9.900000e+01  \n",
       "created_utc            1.506197e+09  1.538175e+09  1.569825e+09  1.601390e+09  \n",
       "num_comments           1.000000e+00  5.000000e+00  1.400000e+01  1.175000e+03  \n",
       "num_crossposts         0.000000e+00  0.000000e+00  0.000000e+00  2.000000e+00  \n",
       "pwls                   6.000000e+00  6.000000e+00  6.000000e+00  6.000000e+00  \n",
       "retrieved_on           1.506290e+09  1.538177e+09  1.569825e+09  1.601391e+09  \n",
       "score                  1.000000e+00  1.000000e+00  9.000000e+00  3.194500e+04  \n",
       "subreddit_subscribers  5.936970e+05  7.923460e+05  1.078876e+06  1.412109e+06  \n",
       "total_awards_received  0.000000e+00  0.000000e+00  0.000000e+00  1.000000e+00  \n",
       "upvote_ratio           1.000000e+00  1.000000e+00  1.000000e+00  1.000000e+00  \n",
       "wls                    6.000000e+00  6.000000e+00  6.000000e+00  6.000000e+00  \n",
       "thumbnail_height       9.700000e+01  1.260000e+02  1.400000e+02  1.400000e+02  \n",
       "thumbnail_width        1.400000e+02  1.400000e+02  1.400000e+02  1.400000e+02  \n",
       "edited                 1.474914e+09  1.475260e+09  1.506367e+09  1.601146e+09  \n",
       "updated_utc            1.569511e+09  1.569790e+09  1.569911e+09  1.570075e+09  \n",
       "gilded                 0.000000e+00  0.000000e+00  0.000000e+00  2.000000e+00  \n",
       "author_created_utc     1.388561e+09  1.443344e+09  1.468137e+09  1.538005e+09  \n",
       "category                        NaN           NaN           NaN           NaN  \n",
       "content_categories              NaN           NaN           NaN           NaN  \n",
       "removal_reason                  NaN           NaN           NaN           NaN  "
      ]
     },
     "execution_count": 5,
     "metadata": {},
     "output_type": "execute_result"
    }
   ],
   "source": [
    "df.describe().T"
   ]
  },
  {
   "cell_type": "code",
   "execution_count": 6,
   "metadata": {},
   "outputs": [],
   "source": [
    "# Streamline the amount of columns as most columns to title, selftext and subreddit columns\n",
    "df = df[['title', 'selftext', 'subreddit']]"
   ]
  },
  {
   "cell_type": "code",
   "execution_count": 7,
   "metadata": {},
   "outputs": [
    {
     "data": {
      "text/html": [
       "<div>\n",
       "<style scoped>\n",
       "    .dataframe tbody tr th:only-of-type {\n",
       "        vertical-align: middle;\n",
       "    }\n",
       "\n",
       "    .dataframe tbody tr th {\n",
       "        vertical-align: top;\n",
       "    }\n",
       "\n",
       "    .dataframe thead th {\n",
       "        text-align: right;\n",
       "    }\n",
       "</style>\n",
       "<table border=\"1\" class=\"dataframe\">\n",
       "  <thead>\n",
       "    <tr style=\"text-align: right;\">\n",
       "      <th></th>\n",
       "      <th>title</th>\n",
       "      <th>selftext</th>\n",
       "      <th>subreddit</th>\n",
       "    </tr>\n",
       "  </thead>\n",
       "  <tbody>\n",
       "    <tr>\n",
       "      <th>0</th>\n",
       "      <td>Score in S10E09</td>\n",
       "      <td>Anybody knows where to find the score of every...</td>\n",
       "      <td>thewalkingdead</td>\n",
       "    </tr>\n",
       "    <tr>\n",
       "      <th>1</th>\n",
       "      <td>Amc early access</td>\n",
       "      <td>When does early access for the episode go live...</td>\n",
       "      <td>thewalkingdead</td>\n",
       "    </tr>\n",
       "    <tr>\n",
       "      <th>2</th>\n",
       "      <td>Why does TWD MTG cards logo features a shootin...</td>\n",
       "      <td>If you look at the new MTG TWD cards the logo ...</td>\n",
       "      <td>thewalkingdead</td>\n",
       "    </tr>\n",
       "    <tr>\n",
       "      <th>3</th>\n",
       "      <td>The G A N G ❤</td>\n",
       "      <td>NaN</td>\n",
       "      <td>thewalkingdead</td>\n",
       "    </tr>\n",
       "    <tr>\n",
       "      <th>4</th>\n",
       "      <td>For which reason jhon travolta was not the one...</td>\n",
       "      <td>NaN</td>\n",
       "      <td>thewalkingdead</td>\n",
       "    </tr>\n",
       "  </tbody>\n",
       "</table>\n",
       "</div>"
      ],
      "text/plain": [
       "                                               title  \\\n",
       "0                                    Score in S10E09   \n",
       "1                                   Amc early access   \n",
       "2  Why does TWD MTG cards logo features a shootin...   \n",
       "3                                      The G A N G ❤   \n",
       "4  For which reason jhon travolta was not the one...   \n",
       "\n",
       "                                            selftext       subreddit  \n",
       "0  Anybody knows where to find the score of every...  thewalkingdead  \n",
       "1  When does early access for the episode go live...  thewalkingdead  \n",
       "2  If you look at the new MTG TWD cards the logo ...  thewalkingdead  \n",
       "3                                                NaN  thewalkingdead  \n",
       "4                                                NaN  thewalkingdead  "
      ]
     },
     "execution_count": 7,
     "metadata": {},
     "output_type": "execute_result"
    }
   ],
   "source": [
    "# Check the DataFrame\n",
    "df.head()"
   ]
  },
  {
   "cell_type": "code",
   "execution_count": 8,
   "metadata": {},
   "outputs": [
    {
     "data": {
      "text/plain": [
       "title           0\n",
       "selftext     2036\n",
       "subreddit       0\n",
       "dtype: int64"
      ]
     },
     "execution_count": 8,
     "metadata": {},
     "output_type": "execute_result"
    }
   ],
   "source": [
    "# Check the number of missing columns\n",
    "df.isna().sum()"
   ]
  },
  {
   "cell_type": "code",
   "execution_count": 9,
   "metadata": {},
   "outputs": [
    {
     "data": {
      "text/plain": [
       "(5000, 3)"
      ]
     },
     "execution_count": 9,
     "metadata": {},
     "output_type": "execute_result"
    }
   ],
   "source": [
    "# Check the shape\n",
    "df.shape"
   ]
  },
  {
   "cell_type": "code",
   "execution_count": 10,
   "metadata": {},
   "outputs": [
    {
     "data": {
      "text/plain": [
       "thewalkingdead    2500\n",
       "harrypotter       2500\n",
       "Name: subreddit, dtype: int64"
      ]
     },
     "execution_count": 10,
     "metadata": {},
     "output_type": "execute_result"
    }
   ],
   "source": [
    "# The value counts of both subreddits\n",
    "df['subreddit'].value_counts()"
   ]
  },
  {
   "cell_type": "markdown",
   "metadata": {},
   "source": [
    "The subreddits column has 2500 of each of the subreddits that we would be using for this classification problem."
   ]
  },
  {
   "cell_type": "code",
   "execution_count": 11,
   "metadata": {},
   "outputs": [
    {
     "data": {
      "text/html": [
       "<div>\n",
       "<style scoped>\n",
       "    .dataframe tbody tr th:only-of-type {\n",
       "        vertical-align: middle;\n",
       "    }\n",
       "\n",
       "    .dataframe tbody tr th {\n",
       "        vertical-align: top;\n",
       "    }\n",
       "\n",
       "    .dataframe thead th {\n",
       "        text-align: right;\n",
       "    }\n",
       "</style>\n",
       "<table border=\"1\" class=\"dataframe\">\n",
       "  <thead>\n",
       "    <tr style=\"text-align: right;\">\n",
       "      <th></th>\n",
       "      <th>title</th>\n",
       "      <th>selftext</th>\n",
       "      <th>subreddit</th>\n",
       "    </tr>\n",
       "  </thead>\n",
       "  <tbody>\n",
       "    <tr>\n",
       "      <th>0</th>\n",
       "      <td>Score in S10E09</td>\n",
       "      <td>Anybody knows where to find the score of every...</td>\n",
       "      <td>1</td>\n",
       "    </tr>\n",
       "    <tr>\n",
       "      <th>1</th>\n",
       "      <td>Amc early access</td>\n",
       "      <td>When does early access for the episode go live...</td>\n",
       "      <td>1</td>\n",
       "    </tr>\n",
       "    <tr>\n",
       "      <th>2</th>\n",
       "      <td>Why does TWD MTG cards logo features a shootin...</td>\n",
       "      <td>If you look at the new MTG TWD cards the logo ...</td>\n",
       "      <td>1</td>\n",
       "    </tr>\n",
       "  </tbody>\n",
       "</table>\n",
       "</div>"
      ],
      "text/plain": [
       "                                               title  \\\n",
       "0                                    Score in S10E09   \n",
       "1                                   Amc early access   \n",
       "2  Why does TWD MTG cards logo features a shootin...   \n",
       "\n",
       "                                            selftext  subreddit  \n",
       "0  Anybody knows where to find the score of every...          1  \n",
       "1  When does early access for the episode go live...          1  \n",
       "2  If you look at the new MTG TWD cards the logo ...          1  "
      ]
     },
     "execution_count": 11,
     "metadata": {},
     "output_type": "execute_result"
    }
   ],
   "source": [
    "# Convert the subreddits column to 0's and 1's\n",
    "df['subreddit'] = df['subreddit'].map({'thewalkingdead':1, 'harrypotter': 0})\n",
    "df.head(3)"
   ]
  },
  {
   "cell_type": "code",
   "execution_count": 12,
   "metadata": {},
   "outputs": [],
   "source": [
    "# Create a column with all the texts for easy counting of the characters in the text\n",
    "df['alltexts'] = df['title'] + ' ' + df['selftext']"
   ]
  },
  {
   "cell_type": "code",
   "execution_count": 13,
   "metadata": {
    "collapsed": true,
    "jupyter": {
     "outputs_hidden": true
    }
   },
   "outputs": [
    {
     "data": {
      "text/html": [
       "<div>\n",
       "<style scoped>\n",
       "    .dataframe tbody tr th:only-of-type {\n",
       "        vertical-align: middle;\n",
       "    }\n",
       "\n",
       "    .dataframe tbody tr th {\n",
       "        vertical-align: top;\n",
       "    }\n",
       "\n",
       "    .dataframe thead th {\n",
       "        text-align: right;\n",
       "    }\n",
       "</style>\n",
       "<table border=\"1\" class=\"dataframe\">\n",
       "  <thead>\n",
       "    <tr style=\"text-align: right;\">\n",
       "      <th></th>\n",
       "      <th>title</th>\n",
       "      <th>selftext</th>\n",
       "      <th>subreddit</th>\n",
       "      <th>alltexts</th>\n",
       "    </tr>\n",
       "  </thead>\n",
       "  <tbody>\n",
       "    <tr>\n",
       "      <th>0</th>\n",
       "      <td>Score in S10E09</td>\n",
       "      <td>Anybody knows where to find the score of every...</td>\n",
       "      <td>1</td>\n",
       "      <td>Score in S10E09 Anybody knows where to find th...</td>\n",
       "    </tr>\n",
       "    <tr>\n",
       "      <th>1</th>\n",
       "      <td>Amc early access</td>\n",
       "      <td>When does early access for the episode go live...</td>\n",
       "      <td>1</td>\n",
       "      <td>Amc early access When does early access for th...</td>\n",
       "    </tr>\n",
       "    <tr>\n",
       "      <th>2</th>\n",
       "      <td>Why does TWD MTG cards logo features a shootin...</td>\n",
       "      <td>If you look at the new MTG TWD cards the logo ...</td>\n",
       "      <td>1</td>\n",
       "      <td>Why does TWD MTG cards logo features a shootin...</td>\n",
       "    </tr>\n",
       "  </tbody>\n",
       "</table>\n",
       "</div>"
      ],
      "text/plain": [
       "                                               title  \\\n",
       "0                                    Score in S10E09   \n",
       "1                                   Amc early access   \n",
       "2  Why does TWD MTG cards logo features a shootin...   \n",
       "\n",
       "                                            selftext  subreddit  \\\n",
       "0  Anybody knows where to find the score of every...          1   \n",
       "1  When does early access for the episode go live...          1   \n",
       "2  If you look at the new MTG TWD cards the logo ...          1   \n",
       "\n",
       "                                            alltexts  \n",
       "0  Score in S10E09 Anybody knows where to find th...  \n",
       "1  Amc early access When does early access for th...  \n",
       "2  Why does TWD MTG cards logo features a shootin...  "
      ]
     },
     "execution_count": 13,
     "metadata": {},
     "output_type": "execute_result"
    }
   ],
   "source": [
    "df.head(3)"
   ]
  },
  {
   "cell_type": "code",
   "execution_count": 14,
   "metadata": {},
   "outputs": [
    {
     "name": "stdout",
     "output_type": "stream",
     "text": [
      "The Average number of characters in the alltexts column is: 573.23\n",
      "The Median number of characters in the alltexts column is: 273.0\n"
     ]
    }
   ],
   "source": [
    "# Calculate the Average and median number of characters in the alltexts column\n",
    "print('The Average number of characters in the alltexts column is: ' + str(round(df['alltexts'].str.len().mean(), 2)))\n",
    "print('The Median number of characters in the alltexts column is: ' + str(round(df['alltexts'].str.len().median(), 2)))"
   ]
  },
  {
   "cell_type": "code",
   "execution_count": 15,
   "metadata": {},
   "outputs": [
    {
     "name": "stdout",
     "output_type": "stream",
     "text": [
      "The Average characters in the alltexts, thewalkingdead subreddit: 469.16\n"
     ]
    }
   ],
   "source": [
    "# For 'the walking dead column'\n",
    "print('The Average characters in the alltexts, thewalkingdead subreddit: ' + str(round(df.loc[df['subreddit'] == 1]['alltexts'].str.len().mean(), 2)))"
   ]
  },
  {
   "cell_type": "code",
   "execution_count": 17,
   "metadata": {},
   "outputs": [
    {
     "name": "stdout",
     "output_type": "stream",
     "text": [
      "The Median characters in the alltexts, thewalkingdead subreddit: 196.0\n"
     ]
    }
   ],
   "source": [
    "print('The Median characters in the alltexts, thewalkingdead subreddit: ' + str(round(df.loc[df['subreddit'] == 1]['alltexts'].str.len().median(), 2)))"
   ]
  },
  {
   "cell_type": "code",
   "execution_count": 16,
   "metadata": {},
   "outputs": [
    {
     "name": "stdout",
     "output_type": "stream",
     "text": [
      "The Average characters in the alltexts, harrypotter subreddit: nan\n"
     ]
    }
   ],
   "source": [
    "# For 'harrypotter subreddit':\n",
    "print('The Average characters in the alltexts, harrypotter subreddit: ' + str(round(df.loc[df['subreddit'] == 2]['alltexts'].str.len().mean(), 2)))"
   ]
  },
  {
   "cell_type": "code",
   "execution_count": 18,
   "metadata": {},
   "outputs": [
    {
     "name": "stdout",
     "output_type": "stream",
     "text": [
      "The Median characters in the alltexts, harrypotter subreddit: nan\n"
     ]
    }
   ],
   "source": [
    "print('The Median characters in the alltexts, harrypotter subreddit: ' + str(round(df.loc[df['subreddit'] == 2]['alltexts'].str.len().median(), 2)))"
   ]
  },
  {
   "cell_type": "markdown",
   "metadata": {},
   "source": [
    "This means that there are more nan values in the harrypotter column than in the walking dead column."
   ]
  },
  {
   "cell_type": "code",
   "execution_count": 19,
   "metadata": {},
   "outputs": [],
   "source": [
    "df.to_csv('subreddit.csv', index=False)"
   ]
  },
  {
   "cell_type": "code",
   "execution_count": null,
   "metadata": {},
   "outputs": [],
   "source": []
  },
  {
   "cell_type": "markdown",
   "metadata": {},
   "source": [
    "## Exploratory Data Analysis"
   ]
  },
  {
   "cell_type": "code",
   "execution_count": 3,
   "metadata": {},
   "outputs": [],
   "source": [
    "df = pd.read_csv('subreddit.csv')"
   ]
  },
  {
   "cell_type": "code",
   "execution_count": 4,
   "metadata": {},
   "outputs": [],
   "source": [
    "# Creating a column called alltexts_word_count which is the number of words in each alltexts column\n",
    "df['alltexts_word_count'] = df['alltexts'].str.count(' ') + 1"
   ]
  },
  {
   "cell_type": "code",
   "execution_count": 5,
   "metadata": {},
   "outputs": [
    {
     "data": {
      "text/html": [
       "<div>\n",
       "<style scoped>\n",
       "    .dataframe tbody tr th:only-of-type {\n",
       "        vertical-align: middle;\n",
       "    }\n",
       "\n",
       "    .dataframe tbody tr th {\n",
       "        vertical-align: top;\n",
       "    }\n",
       "\n",
       "    .dataframe thead th {\n",
       "        text-align: right;\n",
       "    }\n",
       "</style>\n",
       "<table border=\"1\" class=\"dataframe\">\n",
       "  <thead>\n",
       "    <tr style=\"text-align: right;\">\n",
       "      <th></th>\n",
       "      <th>title</th>\n",
       "      <th>selftext</th>\n",
       "      <th>subreddit</th>\n",
       "      <th>alltexts</th>\n",
       "      <th>alltexts_word_count</th>\n",
       "    </tr>\n",
       "  </thead>\n",
       "  <tbody>\n",
       "    <tr>\n",
       "      <th>0</th>\n",
       "      <td>Score in S10E09</td>\n",
       "      <td>Anybody knows where to find the score of every...</td>\n",
       "      <td>1</td>\n",
       "      <td>Score in S10E09 Anybody knows where to find th...</td>\n",
       "      <td>25.0</td>\n",
       "    </tr>\n",
       "    <tr>\n",
       "      <th>1</th>\n",
       "      <td>Amc early access</td>\n",
       "      <td>When does early access for the episode go live...</td>\n",
       "      <td>1</td>\n",
       "      <td>Amc early access When does early access for th...</td>\n",
       "      <td>24.0</td>\n",
       "    </tr>\n",
       "    <tr>\n",
       "      <th>2</th>\n",
       "      <td>Why does TWD MTG cards logo features a shootin...</td>\n",
       "      <td>If you look at the new MTG TWD cards the logo ...</td>\n",
       "      <td>1</td>\n",
       "      <td>Why does TWD MTG cards logo features a shootin...</td>\n",
       "      <td>133.0</td>\n",
       "    </tr>\n",
       "    <tr>\n",
       "      <th>3</th>\n",
       "      <td>The G A N G ❤</td>\n",
       "      <td>NaN</td>\n",
       "      <td>1</td>\n",
       "      <td>NaN</td>\n",
       "      <td>NaN</td>\n",
       "    </tr>\n",
       "    <tr>\n",
       "      <th>4</th>\n",
       "      <td>For which reason jhon travolta was not the one...</td>\n",
       "      <td>NaN</td>\n",
       "      <td>1</td>\n",
       "      <td>NaN</td>\n",
       "      <td>NaN</td>\n",
       "    </tr>\n",
       "  </tbody>\n",
       "</table>\n",
       "</div>"
      ],
      "text/plain": [
       "                                               title  \\\n",
       "0                                    Score in S10E09   \n",
       "1                                   Amc early access   \n",
       "2  Why does TWD MTG cards logo features a shootin...   \n",
       "3                                      The G A N G ❤   \n",
       "4  For which reason jhon travolta was not the one...   \n",
       "\n",
       "                                            selftext  subreddit  \\\n",
       "0  Anybody knows where to find the score of every...          1   \n",
       "1  When does early access for the episode go live...          1   \n",
       "2  If you look at the new MTG TWD cards the logo ...          1   \n",
       "3                                                NaN          1   \n",
       "4                                                NaN          1   \n",
       "\n",
       "                                            alltexts  alltexts_word_count  \n",
       "0  Score in S10E09 Anybody knows where to find th...                 25.0  \n",
       "1  Amc early access When does early access for th...                 24.0  \n",
       "2  Why does TWD MTG cards logo features a shootin...                133.0  \n",
       "3                                                NaN                  NaN  \n",
       "4                                                NaN                  NaN  "
      ]
     },
     "execution_count": 5,
     "metadata": {},
     "output_type": "execute_result"
    }
   ],
   "source": [
    "df.head()"
   ]
  },
  {
   "cell_type": "code",
   "execution_count": 6,
   "metadata": {},
   "outputs": [],
   "source": [
    "# Create a new column called alltexts_length\n",
    "df['alltexts_length'] = df['alltexts'].str.len()"
   ]
  },
  {
   "cell_type": "code",
   "execution_count": 7,
   "metadata": {},
   "outputs": [
    {
     "data": {
      "text/html": [
       "<div>\n",
       "<style scoped>\n",
       "    .dataframe tbody tr th:only-of-type {\n",
       "        vertical-align: middle;\n",
       "    }\n",
       "\n",
       "    .dataframe tbody tr th {\n",
       "        vertical-align: top;\n",
       "    }\n",
       "\n",
       "    .dataframe thead th {\n",
       "        text-align: right;\n",
       "    }\n",
       "</style>\n",
       "<table border=\"1\" class=\"dataframe\">\n",
       "  <thead>\n",
       "    <tr style=\"text-align: right;\">\n",
       "      <th></th>\n",
       "      <th>title</th>\n",
       "      <th>selftext</th>\n",
       "      <th>subreddit</th>\n",
       "      <th>alltexts</th>\n",
       "      <th>alltexts_word_count</th>\n",
       "      <th>alltexts_length</th>\n",
       "    </tr>\n",
       "  </thead>\n",
       "  <tbody>\n",
       "    <tr>\n",
       "      <th>0</th>\n",
       "      <td>Score in S10E09</td>\n",
       "      <td>Anybody knows where to find the score of every...</td>\n",
       "      <td>1</td>\n",
       "      <td>Score in S10E09 Anybody knows where to find th...</td>\n",
       "      <td>25.0</td>\n",
       "      <td>153.0</td>\n",
       "    </tr>\n",
       "    <tr>\n",
       "      <th>1</th>\n",
       "      <td>Amc early access</td>\n",
       "      <td>When does early access for the episode go live...</td>\n",
       "      <td>1</td>\n",
       "      <td>Amc early access When does early access for th...</td>\n",
       "      <td>24.0</td>\n",
       "      <td>118.0</td>\n",
       "    </tr>\n",
       "    <tr>\n",
       "      <th>2</th>\n",
       "      <td>Why does TWD MTG cards logo features a shootin...</td>\n",
       "      <td>If you look at the new MTG TWD cards the logo ...</td>\n",
       "      <td>1</td>\n",
       "      <td>Why does TWD MTG cards logo features a shootin...</td>\n",
       "      <td>133.0</td>\n",
       "      <td>912.0</td>\n",
       "    </tr>\n",
       "    <tr>\n",
       "      <th>3</th>\n",
       "      <td>The G A N G ❤</td>\n",
       "      <td>NaN</td>\n",
       "      <td>1</td>\n",
       "      <td>NaN</td>\n",
       "      <td>NaN</td>\n",
       "      <td>NaN</td>\n",
       "    </tr>\n",
       "    <tr>\n",
       "      <th>4</th>\n",
       "      <td>For which reason jhon travolta was not the one...</td>\n",
       "      <td>NaN</td>\n",
       "      <td>1</td>\n",
       "      <td>NaN</td>\n",
       "      <td>NaN</td>\n",
       "      <td>NaN</td>\n",
       "    </tr>\n",
       "  </tbody>\n",
       "</table>\n",
       "</div>"
      ],
      "text/plain": [
       "                                               title  \\\n",
       "0                                    Score in S10E09   \n",
       "1                                   Amc early access   \n",
       "2  Why does TWD MTG cards logo features a shootin...   \n",
       "3                                      The G A N G ❤   \n",
       "4  For which reason jhon travolta was not the one...   \n",
       "\n",
       "                                            selftext  subreddit  \\\n",
       "0  Anybody knows where to find the score of every...          1   \n",
       "1  When does early access for the episode go live...          1   \n",
       "2  If you look at the new MTG TWD cards the logo ...          1   \n",
       "3                                                NaN          1   \n",
       "4                                                NaN          1   \n",
       "\n",
       "                                            alltexts  alltexts_word_count  \\\n",
       "0  Score in S10E09 Anybody knows where to find th...                 25.0   \n",
       "1  Amc early access When does early access for th...                 24.0   \n",
       "2  Why does TWD MTG cards logo features a shootin...                133.0   \n",
       "3                                                NaN                  NaN   \n",
       "4                                                NaN                  NaN   \n",
       "\n",
       "   alltexts_length  \n",
       "0            153.0  \n",
       "1            118.0  \n",
       "2            912.0  \n",
       "3              NaN  \n",
       "4              NaN  "
      ]
     },
     "execution_count": 7,
     "metadata": {},
     "output_type": "execute_result"
    }
   ],
   "source": [
    "df.head()"
   ]
  },
  {
   "cell_type": "code",
   "execution_count": 8,
   "metadata": {},
   "outputs": [
    {
     "data": {
      "text/plain": [
       "<seaborn.axisgrid.PairGrid at 0x7fd9558d2128>"
      ]
     },
     "execution_count": 8,
     "metadata": {},
     "output_type": "execute_result"
    },
    {
     "data": {
      "image/png": "[encoded data removed]",
      "text/plain": [
       "<Figure size 540x540 with 12 Axes>"
      ]
     },
     "metadata": {},
     "output_type": "display_data"
    }
   ],
   "source": [
    "sns.set(rc={'figure.figsize':(15.7,10)})\n",
    "sns.pairplot(df)\n",
    "plt.title('Exploration of the subreddits')"
   ]
  },
  {
   "cell_type": "code",
   "execution_count": 9,
   "metadata": {},
   "outputs": [
    {
     "data": {
      "text/plain": [
       "title                     0\n",
       "selftext               2036\n",
       "subreddit                 0\n",
       "alltexts               2036\n",
       "alltexts_word_count    2036\n",
       "alltexts_length        2036\n",
       "dtype: int64"
      ]
     },
     "execution_count": 9,
     "metadata": {},
     "output_type": "execute_result"
    }
   ],
   "source": [
    "df.isna().sum()"
   ]
  },
  {
   "cell_type": "code",
   "execution_count": 10,
   "metadata": {},
   "outputs": [],
   "source": [
    "df.dropna(inplace=True)"
   ]
  },
  {
   "cell_type": "code",
   "execution_count": 11,
   "metadata": {},
   "outputs": [
    {
     "name": "stdout",
     "output_type": "stream",
     "text": [
      "<class 'pandas.core.frame.DataFrame'>\n",
      "Int64Index: 2964 entries, 0 to 4999\n",
      "Data columns (total 6 columns):\n",
      " #   Column               Non-Null Count  Dtype  \n",
      "---  ------               --------------  -----  \n",
      " 0   title                2964 non-null   object \n",
      " 1   selftext             2964 non-null   object \n",
      " 2   subreddit            2964 non-null   int64  \n",
      " 3   alltexts             2964 non-null   object \n",
      " 4   alltexts_word_count  2964 non-null   float64\n",
      " 5   alltexts_length      2964 non-null   float64\n",
      "dtypes: float64(2), int64(1), object(3)\n",
      "memory usage: 162.1+ KB\n"
     ]
    }
   ],
   "source": [
    "df.info()"
   ]
  },
  {
   "cell_type": "code",
   "execution_count": 12,
   "metadata": {},
   "outputs": [],
   "source": [
    "# df['alltexts'] = df['alltexts'].str.extract('(.*)http')"
   ]
  },
  {
   "cell_type": "code",
   "execution_count": 13,
   "metadata": {},
   "outputs": [],
   "source": [
    "# Get top words method from kdnuggets\n",
    "def get_top_n_words(corpus, n=None):\n",
    "    vec = CountVectorizer(stop_words='english').fit(corpus)\n",
    "    bag_of_words = vec.transform(corpus)\n",
    "    sum_words = bag_of_words.sum(axis=0)\n",
    "    words_freq = [(word, sum_words[0, idx]) for word, idx in vec.vocabulary_.items()]\n",
    "    words_freq = sorted(words_freq, key = lambda x: x[1], reverse=True)\n",
    "    return words_freq[:n]"
   ]
  },
  {
   "cell_type": "code",
   "execution_count": 14,
   "metadata": {},
   "outputs": [
    {
     "data": {
      "text/plain": [
       "{'season': 948,\n",
       " 'rick': 882,\n",
       " 'just': 682,\n",
       " 'like': 647,\n",
       " 'dead': 498,\n",
       " 'spoilers': 496,\n",
       " 'episode': 468,\n",
       " 'think': 436,\n",
       " 'walking': 417,\n",
       " 'negan': 402}"
      ]
     },
     "execution_count": 14,
     "metadata": {},
     "output_type": "execute_result"
    }
   ],
   "source": [
    "# Top 10 words for 'The Walking Dead'(with no stop words here)\n",
    "twd_10 = get_top_n_words(df[df['subreddit']==1]['alltexts'], 10)\n",
    "twd_10 = dict(twd_10)\n",
    "twd_10"
   ]
  },
  {
   "cell_type": "code",
   "execution_count": 15,
   "metadata": {},
   "outputs": [
    {
     "data": {
      "text/plain": [
       "{'harry': 1364,\n",
       " 'just': 695,\n",
       " 'like': 636,\n",
       " 'https': 610,\n",
       " 'com': 599,\n",
       " 'potter': 498,\n",
       " 'think': 457,\n",
       " 'know': 447,\n",
       " 'house': 415,\n",
       " 'books': 368}"
      ]
     },
     "execution_count": 15,
     "metadata": {},
     "output_type": "execute_result"
    }
   ],
   "source": [
    "# Top 10 words for 'Harry Potter' (with no stop words here)\n",
    "hp_10 = get_top_n_words(df[df['subreddit']==0]['alltexts'], 10)\n",
    "hp_10 = dict(hp_10)\n",
    "hp_10"
   ]
  },
  {
   "cell_type": "markdown",
   "metadata": {},
   "source": [
    "From the above, the words 'https' and 'com' appear in harry potter tokens, I will repeat the process above again but try to clean out the 'http' words from it below"
   ]
  },
  {
   "cell_type": "code",
   "execution_count": 16,
   "metadata": {},
   "outputs": [],
   "source": [
    "# Trying to remove the http from the dataframe\n",
    "df['alltexts'] = df['alltexts'].str.extract('(.*)http')"
   ]
  },
  {
   "cell_type": "code",
   "execution_count": 17,
   "metadata": {},
   "outputs": [
    {
     "data": {
      "text/html": [
       "<div>\n",
       "<style scoped>\n",
       "    .dataframe tbody tr th:only-of-type {\n",
       "        vertical-align: middle;\n",
       "    }\n",
       "\n",
       "    .dataframe tbody tr th {\n",
       "        vertical-align: top;\n",
       "    }\n",
       "\n",
       "    .dataframe thead th {\n",
       "        text-align: right;\n",
       "    }\n",
       "</style>\n",
       "<table border=\"1\" class=\"dataframe\">\n",
       "  <thead>\n",
       "    <tr style=\"text-align: right;\">\n",
       "      <th></th>\n",
       "      <th>title</th>\n",
       "      <th>selftext</th>\n",
       "      <th>subreddit</th>\n",
       "      <th>alltexts_word_count</th>\n",
       "      <th>alltexts_length</th>\n",
       "    </tr>\n",
       "  </thead>\n",
       "  <tbody>\n",
       "    <tr>\n",
       "      <th>0</th>\n",
       "      <td>Score in S10E09</td>\n",
       "      <td>Anybody knows where to find the score of every...</td>\n",
       "      <td>1</td>\n",
       "      <td>25.0</td>\n",
       "      <td>153.0</td>\n",
       "    </tr>\n",
       "    <tr>\n",
       "      <th>1</th>\n",
       "      <td>Amc early access</td>\n",
       "      <td>When does early access for the episode go live...</td>\n",
       "      <td>1</td>\n",
       "      <td>24.0</td>\n",
       "      <td>118.0</td>\n",
       "    </tr>\n",
       "    <tr>\n",
       "      <th>2</th>\n",
       "      <td>Why does TWD MTG cards logo features a shootin...</td>\n",
       "      <td>If you look at the new MTG TWD cards the logo ...</td>\n",
       "      <td>1</td>\n",
       "      <td>133.0</td>\n",
       "      <td>912.0</td>\n",
       "    </tr>\n",
       "    <tr>\n",
       "      <th>6</th>\n",
       "      <td>Is fear the walking dead worth watching?</td>\n",
       "      <td>I got into walking dead around 2012. All it to...</td>\n",
       "      <td>1</td>\n",
       "      <td>83.0</td>\n",
       "      <td>452.0</td>\n",
       "    </tr>\n",
       "    <tr>\n",
       "      <th>7</th>\n",
       "      <td>So idk if its just me hearing this but in S6 E...</td>\n",
       "      <td>lol</td>\n",
       "      <td>1</td>\n",
       "      <td>34.0</td>\n",
       "      <td>156.0</td>\n",
       "    </tr>\n",
       "    <tr>\n",
       "      <th>...</th>\n",
       "      <td>...</td>\n",
       "      <td>...</td>\n",
       "      <td>...</td>\n",
       "      <td>...</td>\n",
       "      <td>...</td>\n",
       "    </tr>\n",
       "    <tr>\n",
       "      <th>4995</th>\n",
       "      <td>Most Animagi would turn into an animal differe...</td>\n",
       "      <td>After reading the Pottermore information on th...</td>\n",
       "      <td>0</td>\n",
       "      <td>148.0</td>\n",
       "      <td>839.0</td>\n",
       "    </tr>\n",
       "    <tr>\n",
       "      <th>4996</th>\n",
       "      <td>Survey results are in: including Patronus, Sor...</td>\n",
       "      <td>*Please note that, at this time, I am still ad...</td>\n",
       "      <td>0</td>\n",
       "      <td>1645.0</td>\n",
       "      <td>11571.0</td>\n",
       "    </tr>\n",
       "    <tr>\n",
       "      <th>4997</th>\n",
       "      <td>Is there a compendium of sorts with pictures/v...</td>\n",
       "      <td>See title. I'd love to see if there is already...</td>\n",
       "      <td>0</td>\n",
       "      <td>50.0</td>\n",
       "      <td>256.0</td>\n",
       "    </tr>\n",
       "    <tr>\n",
       "      <th>4998</th>\n",
       "      <td>What are your patronus, houses, and wand?</td>\n",
       "      <td>I think it would be cool to see how diverse we...</td>\n",
       "      <td>0</td>\n",
       "      <td>57.0</td>\n",
       "      <td>314.0</td>\n",
       "    </tr>\n",
       "    <tr>\n",
       "      <th>4999</th>\n",
       "      <td>Does anyone else want a book about Snape</td>\n",
       "      <td>I find Snape to be a very interesting characte...</td>\n",
       "      <td>0</td>\n",
       "      <td>42.0</td>\n",
       "      <td>206.0</td>\n",
       "    </tr>\n",
       "  </tbody>\n",
       "</table>\n",
       "<p>2964 rows × 5 columns</p>\n",
       "</div>"
      ],
      "text/plain": [
       "                                                  title  \\\n",
       "0                                       Score in S10E09   \n",
       "1                                      Amc early access   \n",
       "2     Why does TWD MTG cards logo features a shootin...   \n",
       "6              Is fear the walking dead worth watching?   \n",
       "7     So idk if its just me hearing this but in S6 E...   \n",
       "...                                                 ...   \n",
       "4995  Most Animagi would turn into an animal differe...   \n",
       "4996  Survey results are in: including Patronus, Sor...   \n",
       "4997  Is there a compendium of sorts with pictures/v...   \n",
       "4998          What are your patronus, houses, and wand?   \n",
       "4999           Does anyone else want a book about Snape   \n",
       "\n",
       "                                               selftext  subreddit  \\\n",
       "0     Anybody knows where to find the score of every...          1   \n",
       "1     When does early access for the episode go live...          1   \n",
       "2     If you look at the new MTG TWD cards the logo ...          1   \n",
       "6     I got into walking dead around 2012. All it to...          1   \n",
       "7                                                   lol          1   \n",
       "...                                                 ...        ...   \n",
       "4995  After reading the Pottermore information on th...          0   \n",
       "4996  *Please note that, at this time, I am still ad...          0   \n",
       "4997  See title. I'd love to see if there is already...          0   \n",
       "4998  I think it would be cool to see how diverse we...          0   \n",
       "4999  I find Snape to be a very interesting characte...          0   \n",
       "\n",
       "      alltexts_word_count  alltexts_length  \n",
       "0                    25.0            153.0  \n",
       "1                    24.0            118.0  \n",
       "2                   133.0            912.0  \n",
       "6                    83.0            452.0  \n",
       "7                    34.0            156.0  \n",
       "...                   ...              ...  \n",
       "4995                148.0            839.0  \n",
       "4996               1645.0          11571.0  \n",
       "4997                 50.0            256.0  \n",
       "4998                 57.0            314.0  \n",
       "4999                 42.0            206.0  \n",
       "\n",
       "[2964 rows x 5 columns]"
      ]
     },
     "execution_count": 17,
     "metadata": {},
     "output_type": "execute_result"
    }
   ],
   "source": [
    "df.drop(columns=['alltexts'])"
   ]
  },
  {
   "cell_type": "code",
   "execution_count": 18,
   "metadata": {},
   "outputs": [],
   "source": [
    "df['alltexts'] = df['title'] + ' ' + df['selftext']"
   ]
  },
  {
   "cell_type": "code",
   "execution_count": 19,
   "metadata": {
    "collapsed": true,
    "jupyter": {
     "outputs_hidden": true
    }
   },
   "outputs": [
    {
     "data": {
      "text/html": [
       "<div>\n",
       "<style scoped>\n",
       "    .dataframe tbody tr th:only-of-type {\n",
       "        vertical-align: middle;\n",
       "    }\n",
       "\n",
       "    .dataframe tbody tr th {\n",
       "        vertical-align: top;\n",
       "    }\n",
       "\n",
       "    .dataframe thead th {\n",
       "        text-align: right;\n",
       "    }\n",
       "</style>\n",
       "<table border=\"1\" class=\"dataframe\">\n",
       "  <thead>\n",
       "    <tr style=\"text-align: right;\">\n",
       "      <th></th>\n",
       "      <th>title</th>\n",
       "      <th>selftext</th>\n",
       "      <th>subreddit</th>\n",
       "      <th>alltexts</th>\n",
       "      <th>alltexts_word_count</th>\n",
       "      <th>alltexts_length</th>\n",
       "    </tr>\n",
       "  </thead>\n",
       "  <tbody>\n",
       "    <tr>\n",
       "      <th>0</th>\n",
       "      <td>Score in S10E09</td>\n",
       "      <td>Anybody knows where to find the score of every...</td>\n",
       "      <td>1</td>\n",
       "      <td>Score in S10E09 Anybody knows where to find th...</td>\n",
       "      <td>25.0</td>\n",
       "      <td>153.0</td>\n",
       "    </tr>\n",
       "    <tr>\n",
       "      <th>1</th>\n",
       "      <td>Amc early access</td>\n",
       "      <td>When does early access for the episode go live...</td>\n",
       "      <td>1</td>\n",
       "      <td>Amc early access When does early access for th...</td>\n",
       "      <td>24.0</td>\n",
       "      <td>118.0</td>\n",
       "    </tr>\n",
       "    <tr>\n",
       "      <th>2</th>\n",
       "      <td>Why does TWD MTG cards logo features a shootin...</td>\n",
       "      <td>If you look at the new MTG TWD cards the logo ...</td>\n",
       "      <td>1</td>\n",
       "      <td>Why does TWD MTG cards logo features a shootin...</td>\n",
       "      <td>133.0</td>\n",
       "      <td>912.0</td>\n",
       "    </tr>\n",
       "    <tr>\n",
       "      <th>6</th>\n",
       "      <td>Is fear the walking dead worth watching?</td>\n",
       "      <td>I got into walking dead around 2012. All it to...</td>\n",
       "      <td>1</td>\n",
       "      <td>Is fear the walking dead worth watching? I got...</td>\n",
       "      <td>83.0</td>\n",
       "      <td>452.0</td>\n",
       "    </tr>\n",
       "    <tr>\n",
       "      <th>7</th>\n",
       "      <td>So idk if its just me hearing this but in S6 E...</td>\n",
       "      <td>lol</td>\n",
       "      <td>1</td>\n",
       "      <td>So idk if its just me hearing this but in S6 E...</td>\n",
       "      <td>34.0</td>\n",
       "      <td>156.0</td>\n",
       "    </tr>\n",
       "    <tr>\n",
       "      <th>...</th>\n",
       "      <td>...</td>\n",
       "      <td>...</td>\n",
       "      <td>...</td>\n",
       "      <td>...</td>\n",
       "      <td>...</td>\n",
       "      <td>...</td>\n",
       "    </tr>\n",
       "    <tr>\n",
       "      <th>4995</th>\n",
       "      <td>Most Animagi would turn into an animal differe...</td>\n",
       "      <td>After reading the Pottermore information on th...</td>\n",
       "      <td>0</td>\n",
       "      <td>Most Animagi would turn into an animal differe...</td>\n",
       "      <td>148.0</td>\n",
       "      <td>839.0</td>\n",
       "    </tr>\n",
       "    <tr>\n",
       "      <th>4996</th>\n",
       "      <td>Survey results are in: including Patronus, Sor...</td>\n",
       "      <td>*Please note that, at this time, I am still ad...</td>\n",
       "      <td>0</td>\n",
       "      <td>Survey results are in: including Patronus, Sor...</td>\n",
       "      <td>1645.0</td>\n",
       "      <td>11571.0</td>\n",
       "    </tr>\n",
       "    <tr>\n",
       "      <th>4997</th>\n",
       "      <td>Is there a compendium of sorts with pictures/v...</td>\n",
       "      <td>See title. I'd love to see if there is already...</td>\n",
       "      <td>0</td>\n",
       "      <td>Is there a compendium of sorts with pictures/v...</td>\n",
       "      <td>50.0</td>\n",
       "      <td>256.0</td>\n",
       "    </tr>\n",
       "    <tr>\n",
       "      <th>4998</th>\n",
       "      <td>What are your patronus, houses, and wand?</td>\n",
       "      <td>I think it would be cool to see how diverse we...</td>\n",
       "      <td>0</td>\n",
       "      <td>What are your patronus, houses, and wand? I th...</td>\n",
       "      <td>57.0</td>\n",
       "      <td>314.0</td>\n",
       "    </tr>\n",
       "    <tr>\n",
       "      <th>4999</th>\n",
       "      <td>Does anyone else want a book about Snape</td>\n",
       "      <td>I find Snape to be a very interesting characte...</td>\n",
       "      <td>0</td>\n",
       "      <td>Does anyone else want a book about Snape I fin...</td>\n",
       "      <td>42.0</td>\n",
       "      <td>206.0</td>\n",
       "    </tr>\n",
       "  </tbody>\n",
       "</table>\n",
       "<p>2964 rows × 6 columns</p>\n",
       "</div>"
      ],
      "text/plain": [
       "                                                  title  \\\n",
       "0                                       Score in S10E09   \n",
       "1                                      Amc early access   \n",
       "2     Why does TWD MTG cards logo features a shootin...   \n",
       "6              Is fear the walking dead worth watching?   \n",
       "7     So idk if its just me hearing this but in S6 E...   \n",
       "...                                                 ...   \n",
       "4995  Most Animagi would turn into an animal differe...   \n",
       "4996  Survey results are in: including Patronus, Sor...   \n",
       "4997  Is there a compendium of sorts with pictures/v...   \n",
       "4998          What are your patronus, houses, and wand?   \n",
       "4999           Does anyone else want a book about Snape   \n",
       "\n",
       "                                               selftext  subreddit  \\\n",
       "0     Anybody knows where to find the score of every...          1   \n",
       "1     When does early access for the episode go live...          1   \n",
       "2     If you look at the new MTG TWD cards the logo ...          1   \n",
       "6     I got into walking dead around 2012. All it to...          1   \n",
       "7                                                   lol          1   \n",
       "...                                                 ...        ...   \n",
       "4995  After reading the Pottermore information on th...          0   \n",
       "4996  *Please note that, at this time, I am still ad...          0   \n",
       "4997  See title. I'd love to see if there is already...          0   \n",
       "4998  I think it would be cool to see how diverse we...          0   \n",
       "4999  I find Snape to be a very interesting characte...          0   \n",
       "\n",
       "                                               alltexts  alltexts_word_count  \\\n",
       "0     Score in S10E09 Anybody knows where to find th...                 25.0   \n",
       "1     Amc early access When does early access for th...                 24.0   \n",
       "2     Why does TWD MTG cards logo features a shootin...                133.0   \n",
       "6     Is fear the walking dead worth watching? I got...                 83.0   \n",
       "7     So idk if its just me hearing this but in S6 E...                 34.0   \n",
       "...                                                 ...                  ...   \n",
       "4995  Most Animagi would turn into an animal differe...                148.0   \n",
       "4996  Survey results are in: including Patronus, Sor...               1645.0   \n",
       "4997  Is there a compendium of sorts with pictures/v...                 50.0   \n",
       "4998  What are your patronus, houses, and wand? I th...                 57.0   \n",
       "4999  Does anyone else want a book about Snape I fin...                 42.0   \n",
       "\n",
       "      alltexts_length  \n",
       "0               153.0  \n",
       "1               118.0  \n",
       "2               912.0  \n",
       "6               452.0  \n",
       "7               156.0  \n",
       "...               ...  \n",
       "4995            839.0  \n",
       "4996          11571.0  \n",
       "4997            256.0  \n",
       "4998            314.0  \n",
       "4999            206.0  \n",
       "\n",
       "[2964 rows x 6 columns]"
      ]
     },
     "execution_count": 19,
     "metadata": {},
     "output_type": "execute_result"
    }
   ],
   "source": [
    "df"
   ]
  },
  {
   "cell_type": "code",
   "execution_count": 20,
   "metadata": {},
   "outputs": [
    {
     "data": {
      "text/plain": [
       "{'season': 948,\n",
       " 'rick': 882,\n",
       " 'just': 682,\n",
       " 'like': 647,\n",
       " 'dead': 498,\n",
       " 'spoilers': 496,\n",
       " 'episode': 468,\n",
       " 'think': 436,\n",
       " 'walking': 417,\n",
       " 'negan': 402}"
      ]
     },
     "execution_count": 20,
     "metadata": {},
     "output_type": "execute_result"
    }
   ],
   "source": [
    "# Top 10 words for 'The Walking Dead'(with no stop words here)\n",
    "twd_10 = get_top_n_words(df[df['subreddit']==1]['alltexts'], 10)\n",
    "twd_10 = dict(twd_10)\n",
    "twd_10"
   ]
  },
  {
   "cell_type": "code",
   "execution_count": 21,
   "metadata": {},
   "outputs": [
    {
     "data": {
      "text/plain": [
       "{'harry': 1364,\n",
       " 'just': 695,\n",
       " 'like': 636,\n",
       " 'https': 610,\n",
       " 'com': 599,\n",
       " 'potter': 498,\n",
       " 'think': 457,\n",
       " 'know': 447,\n",
       " 'house': 415,\n",
       " 'books': 368}"
      ]
     },
     "execution_count": 21,
     "metadata": {},
     "output_type": "execute_result"
    }
   ],
   "source": [
    "# Top 10 words for 'Harry Potter' (with no stop words here)\n",
    "hp_10 = get_top_n_words(df[df['subreddit']==0]['alltexts'], 10)\n",
    "hp_10 = dict(hp_10)\n",
    "hp_10"
   ]
  },
  {
   "cell_type": "code",
   "execution_count": 22,
   "metadata": {},
   "outputs": [
    {
     "data": {
      "image/png": "[encoded data removed]",
      "text/plain": [
       "<Figure size 1080x576 with 1 Axes>"
      ]
     },
     "metadata": {},
     "output_type": "display_data"
    }
   ],
   "source": [
    "# barplot of the top 10 'The Walking Dead' tokens\n",
    "plt.figure(figsize=(15, 8))\n",
    "sns.barplot(x=list(twd_10.keys()), y=list(twd_10.values()))\n",
    "plt.title('Frequency of Top 10 tokens in The Walking Dead subreddit', fontsize=17)\n",
    "plt.xlabel('Tokens', fontsize=12)\n",
    "plt.ylabel('Tokens Count', fontsize=12);\n",
    "plt.savefig('Frequency of Top 10 tokens in TWD Subreddit')"
   ]
  },
  {
   "cell_type": "markdown",
   "metadata": {},
   "source": [
    "We can see that the words season and rick appears over 800 times which is expected. This is because its a tv series and one would expects the word season to appear a lot of times as people are discussing which season they are probably watching right now. Also, since rick is the protagonist main lead we would expect that a lot of the discussion in the subreddit forums center around him. Conversely, the word negan also appears in the top 10 words this could probably be also the fact that at that time, negan was the antagonist main lead in the show. I'm sure that if I scrape more data, I might find the word negan will appear more just like rick."
   ]
  },
  {
   "cell_type": "code",
   "execution_count": 23,
   "metadata": {},
   "outputs": [
    {
     "data": {
      "image/png": "[encoded data removed]",
      "text/plain": [
       "<Figure size 1080x576 with 1 Axes>"
      ]
     },
     "metadata": {},
     "output_type": "display_data"
    }
   ],
   "source": [
    "# barplot of the top 10 'The Walking Dead' tokens\n",
    "plt.figure(figsize=(15, 8))\n",
    "sns.barplot(x=list(hp_10.keys()), y=list(hp_10.values()))\n",
    "plt.title('Frequency of Top 10 tokens in Harry Potter subreddit', fontsize=17)\n",
    "plt.xlabel('Tokens', fontsize=12)\n",
    "plt.ylabel('Tokens Count', fontsize=12);\n",
    "plt.savefig('Frequency of Top 10 tokens in HP Subreddit')"
   ]
  },
  {
   "cell_type": "markdown",
   "metadata": {},
   "source": [
    "Here the word harry is the prominent word in the corpus, this could be because he is the main character and is loved by fans who have read the books or watched the movies. Words like http and com are observed and this is because they are web links that appear frequently in the data set. The words potter, house, books have over 300 observations. The fact that books appears means that this subbreddit is centered around discussions concerning the books. Just like the above, we would expect these to be the strong indications used in the predictions."
   ]
  },
  {
   "cell_type": "code",
   "execution_count": 26,
   "metadata": {},
   "outputs": [],
   "source": [
    "# Saving the data to a clean dataframe\n",
    "df.to_csv('clean_reddit.csv', index=False)"
   ]
  },
  {
   "cell_type": "code",
   "execution_count": null,
   "metadata": {},
   "outputs": [],
   "source": []
  },
  {
   "cell_type": "code",
   "execution_count": null,
   "metadata": {},
   "outputs": [],
   "source": []
  }
 ],
 "metadata": {
  "kernelspec": {
   "display_name": "Python 3",
   "language": "python",
   "name": "python3"
  },
  "language_info": {
   "codemirror_mode": {
    "name": "ipython",
    "version": 3
   },
   "file_extension": ".py",
   "mimetype": "text/x-python",
   "name": "python",
   "nbconvert_exporter": "python",
   "pygments_lexer": "ipython3",
   "version": "3.6.8"
  }
 },
 "nbformat": 4,
 "nbformat_minor": 4
}
